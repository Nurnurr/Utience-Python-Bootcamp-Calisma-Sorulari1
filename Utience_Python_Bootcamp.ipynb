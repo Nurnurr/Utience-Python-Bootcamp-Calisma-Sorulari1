{
  "nbformat": 4,
  "nbformat_minor": 0,
  "metadata": {
    "colab": {
      "provenance": []
    },
    "kernelspec": {
      "name": "python3",
      "display_name": "Python 3"
    },
    "language_info": {
      "name": "python"
    }
  },
  "cells": [
    {
      "cell_type": "markdown",
      "source": [
        "UTIENCE AKADEMİ PYTHON BOOTCAMP ÇALIŞMA SORULAR 1\n",
        "\n"
      ],
      "metadata": {
        "id": "Z8IXNJuTVw9B"
      }
    },
    {
      "cell_type": "markdown",
      "source": [
        "1) Bir değişkene bir tamsayı değeri atayın ve bu değişkenin veri tipini kontrol edin."
      ],
      "metadata": {
        "id": "dyyDS8XoWAmF"
      }
    },
    {
      "cell_type": "code",
      "source": [
        "x = 5\n",
        "type(x)\n"
      ],
      "metadata": {
        "colab": {
          "base_uri": "https://localhost:8080/",
          "height": 0
        },
        "id": "YDRxNsdMWGqg",
        "outputId": "0c90629a-3946-4ffb-88be-738c985a4da0"
      },
      "execution_count": 3,
      "outputs": [
        {
          "output_type": "execute_result",
          "data": {
            "text/plain": [
              "int"
            ]
          },
          "metadata": {},
          "execution_count": 3
        }
      ]
    },
    {
      "cell_type": "code",
      "source": [
        "y = 15.6\n",
        "type(y)"
      ],
      "metadata": {
        "colab": {
          "base_uri": "https://localhost:8080/",
          "height": 0
        },
        "id": "ONcvIrG2WvF-",
        "outputId": "a9dab434-8d78-450f-8a38-f24d2a77199a"
      },
      "execution_count": 4,
      "outputs": [
        {
          "output_type": "execute_result",
          "data": {
            "text/plain": [
              "float"
            ]
          },
          "metadata": {},
          "execution_count": 4
        }
      ]
    },
    {
      "cell_type": "markdown",
      "source": [
        "2)İki değişkenin değerini toplayın ve sonucu bir üçüncü değişkende saklayın. Sonucu yazdırın"
      ],
      "metadata": {
        "id": "hYfCzQj1W0Za"
      }
    },
    {
      "cell_type": "code",
      "source": [
        "toplam = x + y\n",
        "print(toplam)"
      ],
      "metadata": {
        "colab": {
          "base_uri": "https://localhost:8080/",
          "height": 0
        },
        "id": "s8R_Jb4PW92n",
        "outputId": "2b7417a9-c686-45c8-fa09-98f9455f7382"
      },
      "execution_count": 5,
      "outputs": [
        {
          "output_type": "stream",
          "name": "stdout",
          "text": [
            "20.6\n"
          ]
        }
      ]
    },
    {
      "cell_type": "markdown",
      "source": [
        "3)Bir string ve bir integer değişkeni tanımlayın. Ardından, bu iki değişkeni birleştirip yazdırmak için\n",
        "type casting'i kullanın"
      ],
      "metadata": {
        "id": "BilXhAvZXL2R"
      }
    },
    {
      "cell_type": "code",
      "source": [
        "a = 5\n",
        "b = \"Çilek\"\n",
        "\n",
        "birlestirilmis = str(a) + \" \" + b\n",
        "\n",
        "print(birlestirilmis)"
      ],
      "metadata": {
        "colab": {
          "base_uri": "https://localhost:8080/",
          "height": 0
        },
        "id": "C4-Y1z8OXQLM",
        "outputId": "9654eabf-7239-4626-9811-fe28feafdc1d"
      },
      "execution_count": 9,
      "outputs": [
        {
          "output_type": "stream",
          "name": "stdout",
          "text": [
            "5 Çilek\n"
          ]
        }
      ]
    },
    {
      "cell_type": "markdown",
      "source": [
        "4)İki tamsayı tanımlayın, bu iki sayıyı toplayın ve sonucu float türünde yazdırın"
      ],
      "metadata": {
        "id": "uSv1hOdcX9K-"
      }
    },
    {
      "cell_type": "code",
      "source": [
        "z = 5\n",
        "t = 10\n",
        "\n",
        "toplam=z+t\n",
        "\n",
        "float_toplam = float(toplam)\n",
        "\n",
        "print(float_toplam)"
      ],
      "metadata": {
        "colab": {
          "base_uri": "https://localhost:8080/",
          "height": 0
        },
        "id": "hr_37y3eYBgG",
        "outputId": "0e2e2d78-de57-4fad-ff02-34f13e344bb8"
      },
      "execution_count": 10,
      "outputs": [
        {
          "output_type": "stream",
          "name": "stdout",
          "text": [
            "15.0\n"
          ]
        }
      ]
    },
    {
      "cell_type": "markdown",
      "source": [
        "5)Tanımladığınız bir tamsayının tek mi çift mi olduğunu kontrol edin\\"
      ],
      "metadata": {
        "id": "b_DA7OaRZD0s"
      }
    },
    {
      "cell_type": "code",
      "source": [
        "sayi = 25\n",
        "if sayi % 2 == 0:\n",
        "  print(\"Sayınız Çifttir\")\n",
        "else:\n",
        "    print(\"Sayınız Tektir\")"
      ],
      "metadata": {
        "colab": {
          "base_uri": "https://localhost:8080/",
          "height": 0
        },
        "id": "bvKeyhYlZh_u",
        "outputId": "e55b179f-4bb5-4c70-a7d1-b0a9719cf270"
      },
      "execution_count": 12,
      "outputs": [
        {
          "output_type": "stream",
          "name": "stdout",
          "text": [
            "Sayınız Tektir\n"
          ]
        }
      ]
    },
    {
      "cell_type": "code",
      "source": [
        "sayi = 26\n",
        "if sayi % 2 == 0:\n",
        "  print(\"Sayınız Çifttir\")\n",
        "else:\n",
        "  print(\"Sayınız Tektir\")\n"
      ],
      "metadata": {
        "colab": {
          "base_uri": "https://localhost:8080/",
          "height": 0
        },
        "id": "lf9_NT8iZ42o",
        "outputId": "67540116-5919-4097-e487-0daa40074747"
      },
      "execution_count": 14,
      "outputs": [
        {
          "output_type": "stream",
          "name": "stdout",
          "text": [
            "Sayınız Çifttir\n"
          ]
        }
      ]
    },
    {
      "cell_type": "markdown",
      "source": [
        " 6) Üç değişken oluşturun. Bu değişkenlerin türünü kontrol edin ve türleri ekrana yazdırın"
      ],
      "metadata": {
        "id": "X0W3r9q4a9v7"
      }
    },
    {
      "cell_type": "code",
      "source": [
        "degisken1 = 5\n",
        "degisken2 = \"Çilek\"\n",
        "degisken3 = 4.15\n",
        "\n",
        "tür1 = type(degisken1)\n",
        "tür2 = type(degisken2)\n",
        "tür3 = type(degisken3)\n",
        "\n",
        "print(tür1)\n",
        "print(tür2)\n",
        "print(tür3)"
      ],
      "metadata": {
        "colab": {
          "base_uri": "https://localhost:8080/",
          "height": 0
        },
        "id": "lndbMjLAa_Uy",
        "outputId": "5ccaef89-5d8e-4705-8bed-7c06b2e098b4"
      },
      "execution_count": 21,
      "outputs": [
        {
          "output_type": "stream",
          "name": "stdout",
          "text": [
            "<class 'int'>\n",
            "<class 'str'>\n",
            "<class 'float'>\n"
          ]
        }
      ]
    },
    {
      "cell_type": "markdown",
      "source": [
        "7)Bir float değişken tanımlayın. Ardından, bu değişkeni bir tamsayıya dönüştürün ve sonucu"
      ],
      "metadata": {
        "id": "naz_7ksLgR_N"
      }
    },
    {
      "cell_type": "code",
      "source": [
        "a = 4.15\n",
        "\n",
        "tamsayı = int(a)\n",
        "print(tamsayı)"
      ],
      "metadata": {
        "colab": {
          "base_uri": "https://localhost:8080/",
          "height": 0
        },
        "id": "XwwvdQkUhBO4",
        "outputId": "7e4e485a-b20b-4a96-af9b-ef21bd2c8c86"
      },
      "execution_count": 23,
      "outputs": [
        {
          "output_type": "stream",
          "name": "stdout",
          "text": [
            "4\n"
          ]
        }
      ]
    },
    {
      "cell_type": "markdown",
      "source": [
        "8)Bir boolean değişken oluşturun. Ardından, bu değişkeni bir string'e dönüştürün ve sonucu\n",
        "yazdırın"
      ],
      "metadata": {
        "id": "r7SF86UXj9XQ"
      }
    },
    {
      "cell_type": "code",
      "source": [
        "z = True\n",
        "\n",
        "string = str(z)\n",
        "print(string)"
      ],
      "metadata": {
        "colab": {
          "base_uri": "https://localhost:8080/",
          "height": 0
        },
        "id": "sZIRnYXvkBmV",
        "outputId": "f6a7d9a5-ea51-4435-b01b-66cd38756e93"
      },
      "execution_count": 26,
      "outputs": [
        {
          "output_type": "stream",
          "name": "stdout",
          "text": [
            "True\n"
          ]
        }
      ]
    },
    {
      "cell_type": "markdown",
      "source": [
        "9)Bir string değişken tanımlayın. Ardından, bu string'i bir tamsayıya dönüştürmeye çalışın ve bir\n",
        "hata alıp almadığınızı kontrol edin"
      ],
      "metadata": {
        "id": "8QuL7B6elRAa"
      }
    },
    {
      "cell_type": "code",
      "source": [
        "x = \"Çilek\"\n",
        "\n",
        "tamsayı = int(x)\n",
        "print(tamsayı)"
      ],
      "metadata": {
        "colab": {
          "base_uri": "https://localhost:8080/",
          "height": 227
        },
        "id": "fRz7qPXslV0b",
        "outputId": "e561bb9b-e8fd-4cd9-8221-24efced40ebd"
      },
      "execution_count": 28,
      "outputs": [
        {
          "output_type": "error",
          "ename": "ValueError",
          "evalue": "ignored",
          "traceback": [
            "\u001b[0;31m---------------------------------------------------------------------------\u001b[0m",
            "\u001b[0;31mValueError\u001b[0m                                Traceback (most recent call last)",
            "\u001b[0;32m<ipython-input-28-de1040cfd027>\u001b[0m in \u001b[0;36m<cell line: 3>\u001b[0;34m()\u001b[0m\n\u001b[1;32m      1\u001b[0m \u001b[0mx\u001b[0m \u001b[0;34m=\u001b[0m \u001b[0;34m\"Çilek\"\u001b[0m\u001b[0;34m\u001b[0m\u001b[0;34m\u001b[0m\u001b[0m\n\u001b[1;32m      2\u001b[0m \u001b[0;34m\u001b[0m\u001b[0m\n\u001b[0;32m----> 3\u001b[0;31m \u001b[0mtamsayı\u001b[0m \u001b[0;34m=\u001b[0m \u001b[0mint\u001b[0m\u001b[0;34m(\u001b[0m\u001b[0mx\u001b[0m\u001b[0;34m)\u001b[0m\u001b[0;34m\u001b[0m\u001b[0;34m\u001b[0m\u001b[0m\n\u001b[0m\u001b[1;32m      4\u001b[0m \u001b[0mprint\u001b[0m\u001b[0;34m(\u001b[0m\u001b[0mtamsayı\u001b[0m\u001b[0;34m)\u001b[0m\u001b[0;34m\u001b[0m\u001b[0;34m\u001b[0m\u001b[0m\n",
            "\u001b[0;31mValueError\u001b[0m: invalid literal for int() with base 10: 'Çilek'"
          ]
        }
      ]
    },
    {
      "cell_type": "code",
      "source": [
        "x = \"100\"\n",
        "\n",
        "tamsayı = int(x)\n",
        "print(tamsayı)"
      ],
      "metadata": {
        "colab": {
          "base_uri": "https://localhost:8080/",
          "height": 0
        },
        "id": "Zdy-hqTGmG4e",
        "outputId": "a422eda4-30fa-461b-a04a-1ab6841600e9"
      },
      "execution_count": 30,
      "outputs": [
        {
          "output_type": "stream",
          "name": "stdout",
          "text": [
            "100\n"
          ]
        }
      ]
    },
    {
      "cell_type": "markdown",
      "source": [
        "10)İki tamsayı tanımlayın. Ardından, birinci sayının ikinci sayıya bölümünü float olarak yazdırın."
      ],
      "metadata": {
        "id": "s124M6IGmUkW"
      }
    },
    {
      "cell_type": "code",
      "source": [
        "x = 100\n",
        "y = 50\n",
        "\n",
        "islem= float(x / y)\n",
        "print(islem)"
      ],
      "metadata": {
        "colab": {
          "base_uri": "https://localhost:8080/",
          "height": 0
        },
        "id": "OYoSTMVJmZ_I",
        "outputId": "125f6bbe-a5ad-4b0a-853e-57b2a9fcff11"
      },
      "execution_count": 32,
      "outputs": [
        {
          "output_type": "stream",
          "name": "stdout",
          "text": [
            "2.0\n"
          ]
        }
      ]
    }
  ]
}